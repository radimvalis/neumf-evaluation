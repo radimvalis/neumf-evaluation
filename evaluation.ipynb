{
 "cells": [
  {
   "cell_type": "raw",
   "metadata": {
    "vscode": {
     "languageId": "raw"
    }
   },
   "source": [
    "title: MF vs NeuMF vs Diversified NeuMF\n",
    "author: Radim Vališ"
   ]
  },
  {
   "cell_type": "markdown",
   "metadata": {},
   "source": [
    "This report compares *MF*, *[NeuMF](https://arxiv.org/pdf/1708.05031)*, and *NeuMF* with *[MMR](https://www.cs.cmu.edu/~jgc/publication/The_Use_MMR_Diversity_Based_LTMIR_1998.pdf)* postprocessing."
   ]
  },
  {
   "cell_type": "code",
   "execution_count": null,
   "metadata": {},
   "outputs": [
    {
     "name": "stdout",
     "output_type": "stream",
     "text": [
      "The pretty_jupyter extension is already loaded. To reload it, use:\n",
      "  %reload_ext pretty_jupyter\n"
     ]
    }
   ],
   "source": [
    "import os\n",
    "import json\n",
    "import warnings\n",
    "import numpy as np\n",
    "import pandas as pd\n",
    "import seaborn as sns\n",
    "import matplotlib.pyplot as plt\n",
    "\n",
    "warnings.simplefilter(action=\"ignore\", category=FutureWarning)\n",
    "\n",
    "sns.set_style(\"whitegrid\")\n",
    "sns.set_palette(\"bright\", 3)\n",
    "plt.rc(\"axes.spines\", top=False, right=False)\n",
    "\n",
    "%load_ext pretty_jupyter"
   ]
  },
  {
   "cell_type": "markdown",
   "metadata": {},
   "source": [
    "## Data"
   ]
  },
  {
   "cell_type": "markdown",
   "metadata": {},
   "source": [
    "We use two datasets throughout this report: *[interaction.json](https://github.com/radimvalis/neumf-evaluation/blob/main/data/interaction.json)* and *[movie_embeddings.json](https://github.com/radimvalis/neumf-evaluation/blob/main/data/movie_embeddings.json)*."
   ]
  },
  {
   "cell_type": "markdown",
   "metadata": {},
   "source": [
    "#### interaction.json"
   ]
  },
  {
   "cell_type": "markdown",
   "metadata": {},
   "source": [
    "We exported this dataset from *EasyStudy* 's database. It contains logs collected from 4 participants who rated algorithms over 5 iteration rounds."
   ]
  },
  {
   "cell_type": "code",
   "execution_count": 45,
   "metadata": {},
   "outputs": [
    {
     "data": {
      "text/html": [
       "<div>\n",
       "<style scoped>\n",
       "    .dataframe tbody tr th:only-of-type {\n",
       "        vertical-align: middle;\n",
       "    }\n",
       "\n",
       "    .dataframe tbody tr th {\n",
       "        vertical-align: top;\n",
       "    }\n",
       "\n",
       "    .dataframe thead th {\n",
       "        text-align: right;\n",
       "    }\n",
       "</style>\n",
       "<table border=\"1\" class=\"dataframe\">\n",
       "  <thead>\n",
       "    <tr style=\"text-align: right;\">\n",
       "      <th></th>\n",
       "      <th>id</th>\n",
       "      <th>participation</th>\n",
       "      <th>interaction_type</th>\n",
       "      <th>data</th>\n",
       "    </tr>\n",
       "  </thead>\n",
       "  <tbody>\n",
       "    <tr>\n",
       "      <th>0</th>\n",
       "      <td>1</td>\n",
       "      <td>1</td>\n",
       "      <td>loaded-page</td>\n",
       "      <td>{\"page\": \"preference_elicitation\", \"context\": ...</td>\n",
       "    </tr>\n",
       "    <tr>\n",
       "      <th>1</th>\n",
       "      <td>2</td>\n",
       "      <td>1</td>\n",
       "      <td>on-input</td>\n",
       "      <td>{\"search_text_box_value\": \"prada\", \"context\": ...</td>\n",
       "    </tr>\n",
       "    <tr>\n",
       "      <th>2</th>\n",
       "      <td>3</td>\n",
       "      <td>1</td>\n",
       "      <td>selected-item</td>\n",
       "      <td>{\"selected_item\": {\"movieName\": \"Devil Wears P...</td>\n",
       "    </tr>\n",
       "    <tr>\n",
       "      <th>3</th>\n",
       "      <td>4</td>\n",
       "      <td>1</td>\n",
       "      <td>changed-viewport</td>\n",
       "      <td>{\"viewport\": {\"left\": 0, \"top\": 0, \"width\": 19...</td>\n",
       "    </tr>\n",
       "    <tr>\n",
       "      <th>4</th>\n",
       "      <td>5</td>\n",
       "      <td>1</td>\n",
       "      <td>on-input</td>\n",
       "      <td>{\"search_text_box_value\": \"mama\", \"context\": {...</td>\n",
       "    </tr>\n",
       "    <tr>\n",
       "      <th>...</th>\n",
       "      <td>...</td>\n",
       "      <td>...</td>\n",
       "      <td>...</td>\n",
       "      <td>...</td>\n",
       "    </tr>\n",
       "    <tr>\n",
       "      <th>982</th>\n",
       "      <td>983</td>\n",
       "      <td>4</td>\n",
       "      <td>on-input</td>\n",
       "      <td>{\"id\": \"\", \"text\": \"Finish user study\", \"name\"...</td>\n",
       "    </tr>\n",
       "    <tr>\n",
       "      <th>983</th>\n",
       "      <td>984</td>\n",
       "      <td>4</td>\n",
       "      <td>iteration-ended</td>\n",
       "      <td>{\"iteration\": 5, \"selected\": [[863, 782, 410, ...</td>\n",
       "    </tr>\n",
       "    <tr>\n",
       "      <th>984</th>\n",
       "      <td>985</td>\n",
       "      <td>4</td>\n",
       "      <td>study-ended</td>\n",
       "      <td>{\"iteration\": 5}</td>\n",
       "    </tr>\n",
       "    <tr>\n",
       "      <th>985</th>\n",
       "      <td>986</td>\n",
       "      <td>4</td>\n",
       "      <td>loaded-page</td>\n",
       "      <td>{\"page\": \"finished_user_study\", \"context\": {\"u...</td>\n",
       "    </tr>\n",
       "    <tr>\n",
       "      <th>986</th>\n",
       "      <td>987</td>\n",
       "      <td>4</td>\n",
       "      <td>changed-viewport</td>\n",
       "      <td>{\"viewport\": {\"left\": 0, \"top\": 0, \"width\": 25...</td>\n",
       "    </tr>\n",
       "  </tbody>\n",
       "</table>\n",
       "<p>987 rows × 4 columns</p>\n",
       "</div>"
      ],
      "text/plain": [
       "      id  participation  interaction_type  \\\n",
       "0      1              1       loaded-page   \n",
       "1      2              1          on-input   \n",
       "2      3              1     selected-item   \n",
       "3      4              1  changed-viewport   \n",
       "4      5              1          on-input   \n",
       "..   ...            ...               ...   \n",
       "982  983              4          on-input   \n",
       "983  984              4   iteration-ended   \n",
       "984  985              4       study-ended   \n",
       "985  986              4       loaded-page   \n",
       "986  987              4  changed-viewport   \n",
       "\n",
       "                                                  data  \n",
       "0    {\"page\": \"preference_elicitation\", \"context\": ...  \n",
       "1    {\"search_text_box_value\": \"prada\", \"context\": ...  \n",
       "2    {\"selected_item\": {\"movieName\": \"Devil Wears P...  \n",
       "3    {\"viewport\": {\"left\": 0, \"top\": 0, \"width\": 19...  \n",
       "4    {\"search_text_box_value\": \"mama\", \"context\": {...  \n",
       "..                                                 ...  \n",
       "982  {\"id\": \"\", \"text\": \"Finish user study\", \"name\"...  \n",
       "983  {\"iteration\": 5, \"selected\": [[863, 782, 410, ...  \n",
       "984                                   {\"iteration\": 5}  \n",
       "985  {\"page\": \"finished_user_study\", \"context\": {\"u...  \n",
       "986  {\"viewport\": {\"left\": 0, \"top\": 0, \"width\": 25...  \n",
       "\n",
       "[987 rows x 4 columns]"
      ]
     },
     "execution_count": 45,
     "metadata": {},
     "output_type": "execute_result"
    }
   ],
   "source": [
    "interactions_df = pd.read_json(os.path.join(\"data\", \"interaction.json\"))\n",
    "interactions_df = interactions_df.drop(columns=[ \"time\" ], axis=1)\n",
    "interactions_df"
   ]
  },
  {
   "cell_type": "markdown",
   "metadata": {},
   "source": [
    "#### movie_embeddings.json"
   ]
  },
  {
   "cell_type": "markdown",
   "metadata": {},
   "source": [
    "This dataset was extracted from a fitted instance of a *(Diversified) NeuMF* model. It includes movie indices and corresponding embeddings."
   ]
  },
  {
   "cell_type": "code",
   "execution_count": 46,
   "metadata": {},
   "outputs": [
    {
     "data": {
      "text/html": [
       "<div>\n",
       "<style scoped>\n",
       "    .dataframe tbody tr th:only-of-type {\n",
       "        vertical-align: middle;\n",
       "    }\n",
       "\n",
       "    .dataframe tbody tr th {\n",
       "        vertical-align: top;\n",
       "    }\n",
       "\n",
       "    .dataframe thead th {\n",
       "        text-align: right;\n",
       "    }\n",
       "</style>\n",
       "<table border=\"1\" class=\"dataframe\">\n",
       "  <thead>\n",
       "    <tr style=\"text-align: right;\">\n",
       "      <th></th>\n",
       "      <th>movie_idx</th>\n",
       "      <th>embedding</th>\n",
       "    </tr>\n",
       "  </thead>\n",
       "  <tbody>\n",
       "    <tr>\n",
       "      <th>0</th>\n",
       "      <td>8</td>\n",
       "      <td>[-0.3509312868, 0.4983599782, -0.4398425519, 0...</td>\n",
       "    </tr>\n",
       "    <tr>\n",
       "      <th>1</th>\n",
       "      <td>11</td>\n",
       "      <td>[-0.2118005604, 0.5521904826, -0.2603289783, 0...</td>\n",
       "    </tr>\n",
       "    <tr>\n",
       "      <th>2</th>\n",
       "      <td>14</td>\n",
       "      <td>[0.4236060381, -0.20633351800000002, 0.3214513...</td>\n",
       "    </tr>\n",
       "    <tr>\n",
       "      <th>3</th>\n",
       "      <td>22</td>\n",
       "      <td>[-0.2169035971, -0.1967662573, -0.0951324999, ...</td>\n",
       "    </tr>\n",
       "    <tr>\n",
       "      <th>4</th>\n",
       "      <td>27</td>\n",
       "      <td>[0.012238361900000001, 0.4552696049, -1.066598...</td>\n",
       "    </tr>\n",
       "    <tr>\n",
       "      <th>...</th>\n",
       "      <td>...</td>\n",
       "      <td>...</td>\n",
       "    </tr>\n",
       "    <tr>\n",
       "      <th>1925</th>\n",
       "      <td>1845</td>\n",
       "      <td>[2.9959914684, -2.3926167488, 3.2849636078, -1...</td>\n",
       "    </tr>\n",
       "    <tr>\n",
       "      <th>1926</th>\n",
       "      <td>1800</td>\n",
       "      <td>[2.6797120571, -2.3741538525, 3.2547850609, -0...</td>\n",
       "    </tr>\n",
       "    <tr>\n",
       "      <th>1927</th>\n",
       "      <td>1913</td>\n",
       "      <td>[2.6833255291, -2.5622787476, 3.0506663322, -1...</td>\n",
       "    </tr>\n",
       "    <tr>\n",
       "      <th>1928</th>\n",
       "      <td>1917</td>\n",
       "      <td>[2.4284744263, -2.4721214771, 3.5537872314, -1...</td>\n",
       "    </tr>\n",
       "    <tr>\n",
       "      <th>1929</th>\n",
       "      <td>1865</td>\n",
       "      <td>[2.6772232056, -2.2046687603, 2.6630632877, -0...</td>\n",
       "    </tr>\n",
       "  </tbody>\n",
       "</table>\n",
       "<p>1930 rows × 2 columns</p>\n",
       "</div>"
      ],
      "text/plain": [
       "      movie_idx                                          embedding\n",
       "0             8  [-0.3509312868, 0.4983599782, -0.4398425519, 0...\n",
       "1            11  [-0.2118005604, 0.5521904826, -0.2603289783, 0...\n",
       "2            14  [0.4236060381, -0.20633351800000002, 0.3214513...\n",
       "3            22  [-0.2169035971, -0.1967662573, -0.0951324999, ...\n",
       "4            27  [0.012238361900000001, 0.4552696049, -1.066598...\n",
       "...         ...                                                ...\n",
       "1925       1845  [2.9959914684, -2.3926167488, 3.2849636078, -1...\n",
       "1926       1800  [2.6797120571, -2.3741538525, 3.2547850609, -0...\n",
       "1927       1913  [2.6833255291, -2.5622787476, 3.0506663322, -1...\n",
       "1928       1917  [2.4284744263, -2.4721214771, 3.5537872314, -1...\n",
       "1929       1865  [2.6772232056, -2.2046687603, 2.6630632877, -0...\n",
       "\n",
       "[1930 rows x 2 columns]"
      ]
     },
     "execution_count": 46,
     "metadata": {},
     "output_type": "execute_result"
    }
   ],
   "source": [
    "embeddings_df = pd.read_json(os.path.join(\"data\", \"movie_embeddings.json\"))\n",
    "embeddings_df"
   ]
  },
  {
   "cell_type": "markdown",
   "metadata": {},
   "source": [
    "## Preprocessing"
   ]
  },
  {
   "cell_type": "code",
   "execution_count": 47,
   "metadata": {},
   "outputs": [
    {
     "data": {
      "text/html": [
       "<div>\n",
       "<style scoped>\n",
       "    .dataframe tbody tr th:only-of-type {\n",
       "        vertical-align: middle;\n",
       "    }\n",
       "\n",
       "    .dataframe tbody tr th {\n",
       "        vertical-align: top;\n",
       "    }\n",
       "\n",
       "    .dataframe thead th {\n",
       "        text-align: right;\n",
       "    }\n",
       "</style>\n",
       "<table border=\"1\" class=\"dataframe\">\n",
       "  <thead>\n",
       "    <tr style=\"text-align: right;\">\n",
       "      <th></th>\n",
       "      <th>id</th>\n",
       "      <th>participation</th>\n",
       "      <th>interaction_type</th>\n",
       "      <th>data</th>\n",
       "      <th>iteration</th>\n",
       "    </tr>\n",
       "  </thead>\n",
       "  <tbody>\n",
       "    <tr>\n",
       "      <th>29</th>\n",
       "      <td>30</td>\n",
       "      <td>1</td>\n",
       "      <td>iteration-started</td>\n",
       "      <td>{\"iteration\": 1, \"movies\": {\"A\": {\"movies\": [{...</td>\n",
       "      <td>1</td>\n",
       "    </tr>\n",
       "    <tr>\n",
       "      <th>30</th>\n",
       "      <td>31</td>\n",
       "      <td>1</td>\n",
       "      <td>loaded-page</td>\n",
       "      <td>{\"page\": \"compare_algorithms\", \"context\": {\"ur...</td>\n",
       "      <td>1</td>\n",
       "    </tr>\n",
       "    <tr>\n",
       "      <th>31</th>\n",
       "      <td>32</td>\n",
       "      <td>1</td>\n",
       "      <td>changed-viewport</td>\n",
       "      <td>{\"viewport\": {\"left\": 0, \"top\": 0, \"width\": 19...</td>\n",
       "      <td>1</td>\n",
       "    </tr>\n",
       "    <tr>\n",
       "      <th>32</th>\n",
       "      <td>33</td>\n",
       "      <td>1</td>\n",
       "      <td>changed-viewport</td>\n",
       "      <td>{\"viewport\": {\"left\": 0, \"top\": -25, \"width\": ...</td>\n",
       "      <td>1</td>\n",
       "    </tr>\n",
       "    <tr>\n",
       "      <th>33</th>\n",
       "      <td>34</td>\n",
       "      <td>1</td>\n",
       "      <td>changed-viewport</td>\n",
       "      <td>{\"viewport\": {\"left\": 0, \"top\": -342, \"width\":...</td>\n",
       "      <td>1</td>\n",
       "    </tr>\n",
       "    <tr>\n",
       "      <th>...</th>\n",
       "      <td>...</td>\n",
       "      <td>...</td>\n",
       "      <td>...</td>\n",
       "      <td>...</td>\n",
       "      <td>...</td>\n",
       "    </tr>\n",
       "    <tr>\n",
       "      <th>982</th>\n",
       "      <td>983</td>\n",
       "      <td>4</td>\n",
       "      <td>on-input</td>\n",
       "      <td>{\"id\": \"\", \"text\": \"Finish user study\", \"name\"...</td>\n",
       "      <td>5</td>\n",
       "    </tr>\n",
       "    <tr>\n",
       "      <th>983</th>\n",
       "      <td>984</td>\n",
       "      <td>4</td>\n",
       "      <td>iteration-ended</td>\n",
       "      <td>{\"iteration\": 5, \"selected\": [[863, 782, 410, ...</td>\n",
       "      <td>5</td>\n",
       "    </tr>\n",
       "    <tr>\n",
       "      <th>984</th>\n",
       "      <td>985</td>\n",
       "      <td>4</td>\n",
       "      <td>study-ended</td>\n",
       "      <td>{\"iteration\": 5}</td>\n",
       "      <td>5</td>\n",
       "    </tr>\n",
       "    <tr>\n",
       "      <th>985</th>\n",
       "      <td>986</td>\n",
       "      <td>4</td>\n",
       "      <td>loaded-page</td>\n",
       "      <td>{\"page\": \"finished_user_study\", \"context\": {\"u...</td>\n",
       "      <td>5</td>\n",
       "    </tr>\n",
       "    <tr>\n",
       "      <th>986</th>\n",
       "      <td>987</td>\n",
       "      <td>4</td>\n",
       "      <td>changed-viewport</td>\n",
       "      <td>{\"viewport\": {\"left\": 0, \"top\": 0, \"width\": 25...</td>\n",
       "      <td>5</td>\n",
       "    </tr>\n",
       "  </tbody>\n",
       "</table>\n",
       "<p>777 rows × 5 columns</p>\n",
       "</div>"
      ],
      "text/plain": [
       "      id  participation   interaction_type  \\\n",
       "29    30              1  iteration-started   \n",
       "30    31              1        loaded-page   \n",
       "31    32              1   changed-viewport   \n",
       "32    33              1   changed-viewport   \n",
       "33    34              1   changed-viewport   \n",
       "..   ...            ...                ...   \n",
       "982  983              4           on-input   \n",
       "983  984              4    iteration-ended   \n",
       "984  985              4        study-ended   \n",
       "985  986              4        loaded-page   \n",
       "986  987              4   changed-viewport   \n",
       "\n",
       "                                                  data  iteration  \n",
       "29   {\"iteration\": 1, \"movies\": {\"A\": {\"movies\": [{...          1  \n",
       "30   {\"page\": \"compare_algorithms\", \"context\": {\"ur...          1  \n",
       "31   {\"viewport\": {\"left\": 0, \"top\": 0, \"width\": 19...          1  \n",
       "32   {\"viewport\": {\"left\": 0, \"top\": -25, \"width\": ...          1  \n",
       "33   {\"viewport\": {\"left\": 0, \"top\": -342, \"width\":...          1  \n",
       "..                                                 ...        ...  \n",
       "982  {\"id\": \"\", \"text\": \"Finish user study\", \"name\"...          5  \n",
       "983  {\"iteration\": 5, \"selected\": [[863, 782, 410, ...          5  \n",
       "984                                   {\"iteration\": 5}          5  \n",
       "985  {\"page\": \"finished_user_study\", \"context\": {\"u...          5  \n",
       "986  {\"viewport\": {\"left\": 0, \"top\": 0, \"width\": 25...          5  \n",
       "\n",
       "[777 rows x 5 columns]"
      ]
     },
     "execution_count": 47,
     "metadata": {},
     "output_type": "execute_result"
    }
   ],
   "source": [
    "algorithm_map = { \"A\": \"NEUMF\", \"B\": \"NEUMF_DIVERSITY\", \"C\": \"MF\" }\n",
    "\n",
    "names = list(algorithm_map.keys())\n",
    "algorithms = list(algorithm_map.values())\n",
    "\n",
    "# Add information on which iteration given record belongs to\n",
    "\n",
    "def set_iteration_number(row):\n",
    "\n",
    "    if row[\"interaction_type\"] in [ \"iteration-started\", \"iteration-ended\" ]:\n",
    "\n",
    "        row[\"iteration\"] = json.loads(row[\"data\"])[\"iteration\"]\n",
    "\n",
    "    else:\n",
    "\n",
    "        row[\"iteration\"] = None\n",
    "\n",
    "    return row\n",
    "\n",
    "interactions_df = interactions_df.apply(set_iteration_number, axis=1)\n",
    "\n",
    "# Add information on iteration number to remaining records\n",
    "\n",
    "interactions_df[\"iteration\"] = interactions_df.groupby([\"participation\"], sort=False)[\"iteration\"].ffill()\n",
    "interactions_df: pd.DataFrame = interactions_df.dropna(subset=[ \"iteration\" ])\n",
    "interactions_df[\"iteration\"] = interactions_df[\"iteration\"].astype(int)\n",
    "interactions_df"
   ]
  },
  {
   "cell_type": "markdown",
   "metadata": {},
   "source": [
    "## Evaluation"
   ]
  },
  {
   "cell_type": "markdown",
   "metadata": {},
   "source": [
    "In the evaluation section, we are mainly interested in the level of diversity and its influence on the quality of recommendations, as diversification was the postprocessing step we included in our *NeuMF* model. But first, let’s address more general questions."
   ]
  },
  {
   "cell_type": "markdown",
   "metadata": {},
   "source": [
    "### How many selections did each algorithm attract?"
   ]
  },
  {
   "cell_type": "markdown",
   "metadata": {},
   "source": [
    "To address this question, we need to perform the following steps first:\n",
    "\n",
    "1. Filter out selected movies that were later deselected.\n",
    "2. Count selections for each algorithm that recommended a selected movie, since the dataset always includes only one record of a movie selection, even if multiple algorithms recommended it."
   ]
  },
  {
   "cell_type": "code",
   "execution_count": 48,
   "metadata": {},
   "outputs": [
    {
     "data": {
      "image/png": "[encoded data removed]",
      "text/plain": [
       "<Figure size 640x480 with 1 Axes>"
      ]
     },
     "metadata": {},
     "output_type": "display_data"
    }
   ],
   "source": [
    "# Filter out selected items that were later deselected\n",
    "\n",
    "sel_and_desel_items_df: pd.DataFrame = interactions_df[(interactions_df[\"interaction_type\"] == \"selected-item\") | (interactions_df[\"interaction_type\"] == \"deselected-item\")].copy()\n",
    "\n",
    "def set_selected_item_idx(row):\n",
    "\n",
    "    if row[\"interaction_type\"] == \"selected-item\":\n",
    "\n",
    "        row[\"movie_idx\"] = json.loads(row[\"data\"])[\"selected_item\"][\"movie_idx\"]\n",
    "\n",
    "    return row\n",
    "\n",
    "def set_deselected_item_idx(row):\n",
    "\n",
    "    if row[\"interaction_type\"] == \"deselected-item\":\n",
    "\n",
    "        row[\"movie_idx\"] = json.loads(row[\"data\"])[\"deselected_item\"][\"movie_idx\"]\n",
    "\n",
    "    return row\n",
    "\n",
    "sel_and_desel_items_df = sel_and_desel_items_df.apply(set_selected_item_idx, axis=1)\n",
    "sel_and_desel_items_df = sel_and_desel_items_df.apply(set_deselected_item_idx, axis=1)\n",
    "\n",
    "deselected_item_rows_idxs = sel_and_desel_items_df[sel_and_desel_items_df[\"interaction_type\"] == \"deselected-item\"].index\n",
    "\n",
    "for i in deselected_item_rows_idxs:\n",
    "\n",
    "    filter = (\n",
    "\n",
    "        (sel_and_desel_items_df.index < i) &\n",
    "        (sel_and_desel_items_df[\"participation\"] == sel_and_desel_items_df.at[i, \"participation\"]) &\n",
    "        (sel_and_desel_items_df[\"iteration\"] == sel_and_desel_items_df.at[i, \"iteration\"]) &\n",
    "        (sel_and_desel_items_df[\"movie_idx\"] == sel_and_desel_items_df.at[i, \"movie_idx\"]) &\n",
    "        (sel_and_desel_items_df[\"interaction_type\"] == \"selected-item\")\n",
    "    )\n",
    "    \n",
    "    sel_and_desel_items_df = sel_and_desel_items_df.drop(sel_and_desel_items_df[filter].index)\n",
    "\n",
    "selected_items_df = sel_and_desel_items_df[sel_and_desel_items_df[\"interaction_type\"] == \"selected-item\"].copy()\n",
    "\n",
    "# Load lists of recommended items\n",
    "\n",
    "iteration_started_df: pd.DataFrame = interactions_df[interactions_df[\"interaction_type\"] == \"iteration-started\"].copy()\n",
    "\n",
    "def set_recommended_items_idxs(row):\n",
    "\n",
    "    data_as_json = json.loads(row[\"data\"])\n",
    "\n",
    "    for name in names:\n",
    "\n",
    "        recommended_items_idxs = []\n",
    "\n",
    "        for movie in data_as_json[\"movies\"][name][\"movies\"]:\n",
    "\n",
    "            recommended_items_idxs.append(movie[\"movie_idx\"])\n",
    "\n",
    "        row[algorithm_map[name]] = recommended_items_idxs\n",
    "\n",
    "    return row\n",
    "\n",
    "recommended_items_df = iteration_started_df.apply(set_recommended_items_idxs, axis=1)\n",
    "recommended_items_df = recommended_items_df.drop(columns=[ \"interaction_type\", \"data\" ])\n",
    "\n",
    "# Create DF with all selected items as selections in original dataset are counted only once, even if item is recommended by multiple algorithms\n",
    "\n",
    "all_selections = []\n",
    "\n",
    "for _, row in selected_items_df.iterrows():\n",
    "\n",
    "    for algorithm in algorithms:\n",
    "\n",
    "        if row[\"movie_idx\"] in recommended_items_df.loc[(recommended_items_df[\"participation\"] == row[\"participation\"]) & (recommended_items_df[\"iteration\"] == row[\"iteration\"])].iloc[0][algorithm]:\n",
    "\n",
    "            all_selections.append({ \"participation\": row[\"participation\"], \"iteration\": row[\"iteration\"], \"movie_idx\": row[\"movie_idx\"], \"algorithm\": algorithm })\n",
    "\n",
    "all_selected_items_df = pd.DataFrame(all_selections)\n",
    "\n",
    "# Create figure\n",
    "\n",
    "selections_counts = all_selected_items_df.groupby(\"algorithm\")[[\"movie_idx\"]].count().reset_index()\n",
    "\n",
    "ax = sns.barplot(selections_counts, x=\"algorithm\", y=\"movie_idx\", hue=\"algorithm\", legend=False)\n",
    "ax.set(title=\"Selected Items by Algorithm\", xlabel=\"\", ylabel=\"Number of selected items\")\n",
    "\n",
    "plt.show()"
   ]
  },
  {
   "cell_type": "code",
   "execution_count": 49,
   "metadata": {},
   "outputs": [
    {
     "data": {
      "text/markdown": [
       "\n",
       "We observe that *MF* attracted 68 selections, while *NeuMF* and *Diversified NeuMF* attracted only 56 and 57 selections, respectively."
      ],
      "text/plain": [
       "<IPython.core.display.Markdown object>"
      ]
     },
     "execution_count": 49,
     "metadata": {},
     "output_type": "execute_result"
    }
   ],
   "source": [
    "%%jmd\n",
    "\n",
    "We observe that *MF* attracted {{ selections_counts.iloc[0][\"movie_idx\"] }} selections, while *NeuMF* and *Diversified NeuMF* attracted only {{ selections_counts.iloc[1][\"movie_idx\"] }} and {{ selections_counts.iloc[2][\"movie_idx\"] }} selections, respectively."
   ]
  },
  {
   "cell_type": "markdown",
   "metadata": {},
   "source": [
    "### How did users rate recommendations?"
   ]
  },
  {
   "cell_type": "code",
   "execution_count": 50,
   "metadata": {},
   "outputs": [
    {
     "data": {
      "image/png": "[encoded data removed]",
      "text/plain": [
       "<Figure size 640x480 with 1 Axes>"
      ]
     },
     "metadata": {},
     "output_type": "display_data"
    }
   ],
   "source": [
    "inputs_df = interactions_df.loc[interactions_df[\"interaction_type\"] == \"on-input\"].copy()\n",
    "\n",
    "def set_input_type(row):\n",
    "\n",
    "    row[\"input_type\"] = json.loads(row[\"data\"])[\"input_type\"]\n",
    "\n",
    "    return row\n",
    "\n",
    "inputs_df = inputs_df.apply(set_input_type, axis=1)\n",
    "\n",
    "ratings_df: pd.DataFrame = inputs_df.loc[inputs_df[\"input_type\"] == \"rating\"]\n",
    "\n",
    "def set_rating_and_algorithm(row):\n",
    "\n",
    "    data = json.loads(row[\"data\"])\n",
    "\n",
    "    row[\"rating\"] = data[\"new_rating\"]\n",
    "    row[\"algorithm\"] = algorithm_map[data[\"variant_name\"]]\n",
    "\n",
    "    return row\n",
    "\n",
    "ratings_df = ratings_df.apply(set_rating_and_algorithm, axis=1)\n",
    "ratings_df = ratings_df.drop_duplicates(subset=[ \"participation\", \"iteration\", \"algorithm\" ], keep=\"last\")\n",
    "\n",
    "# Create figure\n",
    "\n",
    "ratings_means = ratings_df.groupby(\"algorithm\")[[\"rating\"]].mean().reset_index()\n",
    "\n",
    "ax = sns.barplot(ratings_means, x=\"algorithm\", y=\"rating\", hue=\"algorithm\", legend=False)\n",
    "ax.set(title=\"Mean Rating by Algorithm\", xlabel=\"\", ylabel=\"Mean Rating\")\n",
    "\n",
    "plt.show()"
   ]
  },
  {
   "cell_type": "markdown",
   "metadata": {},
   "source": [
    "The chart indicates that participants ranked all algorithms similarly."
   ]
  },
  {
   "cell_type": "markdown",
   "metadata": {},
   "source": [
    "### What's the diversity with respect to genres?"
   ]
  },
  {
   "cell_type": "markdown",
   "metadata": {},
   "source": [
    "To measure the extent of diversity, we employ *[intra-list diversity](https://rectools.readthedocs.io/en/latest/api/rectools.metrics.diversity.IntraListDiversity.html)*, using the *[Jaccard index](https://en.wikipedia.org/wiki/Jaccard_index)* as a similarity metric."
   ]
  },
  {
   "cell_type": "code",
   "execution_count": 51,
   "metadata": {},
   "outputs": [
    {
     "data": {
      "image/png": "[encoded data removed]",
      "text/plain": [
       "<Figure size 640x480 with 1 Axes>"
      ]
     },
     "metadata": {},
     "output_type": "display_data"
    }
   ],
   "source": [
    "iteration_started_df = interactions_df.loc[interactions_df[\"interaction_type\"] == \"iteration-started\"].copy()\n",
    "\n",
    "def calculate_intra_list_diversity_by_genres(row):\n",
    "\n",
    "    data = json.loads(row[\"data\"])\n",
    "\n",
    "    for name in names:\n",
    "\n",
    "        genres_of_movies: list[set] = []\n",
    "\n",
    "        for movie in data[\"movies\"][name][\"movies\"]:\n",
    "\n",
    "            genres = set(movie[\"genres\"])\n",
    "\n",
    "            if len(genres) > 0:\n",
    "\n",
    "                genres_of_movies.append(genres)\n",
    "\n",
    "        diversities_sum = 0\n",
    "\n",
    "        for i, g1 in enumerate(genres_of_movies):\n",
    "            for j, g2 in enumerate(genres_of_movies):\n",
    "\n",
    "                    if i < j:\n",
    "\n",
    "                        jaccard_similarity = len(g1.intersection(g2)) / len(g1.union(g2))\n",
    "\n",
    "                        diversities_sum += 1 - jaccard_similarity\n",
    "\n",
    "        pairs_count = len(genres_of_movies) * (len(genres_of_movies) - 1) / 2\n",
    "\n",
    "        intra_list_diversity = diversities_sum / pairs_count\n",
    "\n",
    "        row[algorithm_map[name] + \"_ILD_genres\"] = intra_list_diversity\n",
    "\n",
    "    return row\n",
    "\n",
    "iteration_started_df = iteration_started_df.apply(calculate_intra_list_diversity_by_genres, axis=1)\n",
    "\n",
    "# Create figure\n",
    "\n",
    "ax = sns.boxplot(data=iteration_started_df.rename(columns={ a + \"_ILD_genres\": a for a in algorithms })[sorted(algorithms)])\n",
    "ax.set(title=\"Diversity with respect to genres\", ylabel=\"Intra-List Diversity\")\n",
    "\n",
    "plt.show()"
   ]
  },
  {
   "cell_type": "markdown",
   "metadata": {},
   "source": [
    "Firstly, both variants of *NeuMF* outperform *MF* in terms of genre diversity. Secondly, the median of *Diversified NeuMF* is less than the median of the basic version of *NeuMF*. This may be because diversification is performed based on movie embeddings, meaning that movie genres are not taken into account."
   ]
  },
  {
   "cell_type": "markdown",
   "metadata": {},
   "source": [
    "### What's the diversity with respect to embeddings?"
   ]
  },
  {
   "cell_type": "markdown",
   "metadata": {},
   "source": [
    "Here, we recalculate *intra-list diversity* using movie embeddings. As a result, we replace the *Jaccard index*, suited for categorical data, with *[cosine similarity](https://en.wikipedia.org/wiki/Cosine_similarity)*, which is better for numerical vectors."
   ]
  },
  {
   "cell_type": "code",
   "execution_count": 52,
   "metadata": {},
   "outputs": [
    {
     "data": {
      "image/png": "[encoded data removed]",
      "text/plain": [
       "<Figure size 640x480 with 1 Axes>"
      ]
     },
     "metadata": {},
     "output_type": "display_data"
    }
   ],
   "source": [
    "def calculate_intra_list_diversity_by_embeddings(row):\n",
    "\n",
    "    data = json.loads(row[\"data\"])\n",
    "\n",
    "    for name in names:\n",
    "\n",
    "        embeddings_of_movies = []\n",
    "\n",
    "        for movie in data[\"movies\"][name][\"movies\"]:\n",
    "\n",
    "            embedding = embeddings_df.loc[embeddings_df[\"movie_idx\"] == int(movie[\"movie_idx\"])][\"embedding\"].to_numpy()[0]\n",
    "\n",
    "            embeddings_of_movies.append(embedding)\n",
    "\n",
    "        distances_sum = 0\n",
    "\n",
    "        for i, e1 in enumerate(embeddings_of_movies):\n",
    "            for j, e2 in enumerate(embeddings_of_movies):\n",
    "\n",
    "                if i < j:\n",
    "\n",
    "                    cosine_similarity = np.dot(e1, e2) / (np.linalg.norm(e1) * np.linalg.norm(e2))\n",
    "\n",
    "                    distances_sum += 1 - cosine_similarity\n",
    "\n",
    "        pairs_count = len(embeddings_of_movies) * (len(embeddings_of_movies) - 1) / 2\n",
    "\n",
    "        intra_list_diversity = distances_sum / pairs_count\n",
    "\n",
    "        row[algorithm_map[name] + \"_ILD_embeddings\"] = intra_list_diversity\n",
    "\n",
    "    return row\n",
    "\n",
    "iteration_started_df = iteration_started_df.apply(calculate_intra_list_diversity_by_embeddings, axis=1)\n",
    "\n",
    "# Create figure\n",
    "\n",
    "ax = sns.boxplot(data=iteration_started_df.rename(columns={ a + \"_ILD_embeddings\": a for a in algorithms })[sorted(algorithms)])\n",
    "ax.set(title=\"Diversity with respect to embeddings\", ylabel=\"Intra-List Diversity\")\n",
    "\n",
    "plt.show()"
   ]
  },
  {
   "cell_type": "markdown",
   "metadata": {},
   "source": [
    "The result now looks as one would expect — recommendations provided by the diversified version of *NeuMF* are less uniform than those provided by the vanilla *NeuMF*. We can also see the importance of the postprocessing step — *NeuMF* alone doesn't outperform *MF*."
   ]
  },
  {
   "cell_type": "code",
   "execution_count": 53,
   "metadata": {},
   "outputs": [
    {
     "data": {
      "text/markdown": [
       "\n",
       "## Conclusion\n",
       "\n",
       "To sum up, we first showed that all algorithms attracted about the same number of selections and that the overall quality of recommendations was also similar for all of them. Then, we investigated the algorithms in terms of diversity. We found that *Diversified NeuMF* recommended more diverse movies than *MF*, whether concerning genres or embeddings. As diversity is usually a desired property of a recommender, we can conclude that applying this kind of postprocessing to *NeuMF* makes sense. On the other hand, we base this conclusion on feedback from only 4 participants, so no one should take these results for granted."
      ],
      "text/plain": [
       "<IPython.core.display.Markdown object>"
      ]
     },
     "execution_count": 53,
     "metadata": {},
     "output_type": "execute_result"
    }
   ],
   "source": [
    "%%jmd\n",
    "\n",
    "## Conclusion\n",
    "\n",
    "To sum up, we first showed that all algorithms attracted about the same number of selections and that the overall quality of recommendations was also similar for all of them. Then, we investigated the algorithms in terms of diversity. We found that *Diversified NeuMF* recommended more diverse movies than *MF*, whether concerning genres or embeddings. As diversity is usually a desired property of a recommender, we can conclude that applying this kind of postprocessing to *NeuMF* makes sense. On the other hand, we base this conclusion on feedback from only {{ interactions_df[\"participation\"].nunique() }} participants, so no one should take these results for granted."
   ]
  }
 ],
 "metadata": {
  "kernelspec": {
   "display_name": ".venv",
   "language": "python",
   "name": "python3"
  },
  "language_info": {
   "codemirror_mode": {
    "name": "ipython",
    "version": 3
   },
   "file_extension": ".py",
   "mimetype": "text/x-python",
   "name": "python",
   "nbconvert_exporter": "python",
   "pygments_lexer": "ipython3",
   "version": "3.10.11"
  }
 },
 "nbformat": 4,
 "nbformat_minor": 2
}
